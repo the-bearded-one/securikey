{
 "cells": [
  {
   "cell_type": "code",
   "execution_count": 12,
   "metadata": {},
   "outputs": [],
   "source": [
    "import requests\n",
    "import json\n",
    "\n",
    "#NIST API URL that only outputs CVEs that are in CISA's Known Exploited Vulnerabilities catalog\n",
    "url = \"https://services.nvd.nist.gov/rest/json/cves/2.0?hasKev\""
   ]
  },
  {
   "cell_type": "markdown",
   "metadata": {},
   "source": [
    "### Helper Functions"
   ]
  },
  {
   "cell_type": "code",
   "execution_count": 13,
   "metadata": {},
   "outputs": [],
   "source": [
    "def get_nvd_data(url):\n",
    "    #function that receives data from NIST API\n",
    "\n",
    "    try:\n",
    "        response = requests.get(url)\n",
    "\n",
    "        if response.status_code == 200:\n",
    "            data = response.json()\n",
    "            return data\n",
    "\n",
    "        else:\n",
    "            print(f\"Request failed with status code {response.status_code}\")\n",
    "            return None\n",
    "\n",
    "    except requests.exceptions.RequestException as e:\n",
    "        print(f\"Request failed: {str(e)}\")\n",
    "        return None"
   ]
  },
  {
   "cell_type": "code",
   "execution_count": 14,
   "metadata": {},
   "outputs": [],
   "source": [
    "def filter_by_severity(cve_data, filter_severity):\n",
    "    medium_severity_results = []\n",
    "\n",
    "    for vulnerability in cve_data.get(\"vulnerabilities\", []):\n",
    "        cvss_metric_v2 = vulnerability.get(\"cve\", {}).get(\"metrics\", {}).get(\"cvssMetricV2\", [])\n",
    "    \n",
    "        for metric in cvss_metric_v2:\n",
    "            baseSeverity = metric.get(\"baseSeverity\")\n",
    "\n",
    "            if baseSeverity == filter_severity:\n",
    "                medium_severity_results.append(vulnerability)\n",
    "\n",
    "    return medium_severity_results\n"
   ]
  },
  {
   "cell_type": "code",
   "execution_count": null,
   "metadata": {},
   "outputs": [],
   "source": [
    "def filter_by_keyword(cve_data, filter_keyword):\n",
    "    matching_results = []\n",
    "\n",
    "    for vulnerability in cve_data.get(\"vulnerabilities\", []):\n",
    "        vulnerability_name = vulnerability.get(\"cve\", {}).get(\"cisaVulnerabilityName\", \"\")\n",
    "        \n",
    "        if filter_keyword.lower() in vulnerability_name.lower():\n",
    "            matching_results.append(vulnerability)\n",
    "\n",
    "    return matching_results"
   ]
  },
  {
   "cell_type": "markdown",
   "metadata": {},
   "source": [
    "### Select CVE Severity"
   ]
  },
  {
   "cell_type": "code",
   "execution_count": 6,
   "metadata": {},
   "outputs": [],
   "source": [
    "filter_severity = \"LOW\""
   ]
  },
  {
   "cell_type": "code",
   "execution_count": 7,
   "metadata": {},
   "outputs": [],
   "source": [
    "filter_severity = \"MEDIUM\""
   ]
  },
  {
   "cell_type": "code",
   "execution_count": 8,
   "metadata": {},
   "outputs": [],
   "source": [
    "filter_severity = \"HIGH\""
   ]
  },
  {
   "cell_type": "markdown",
   "metadata": {},
   "source": [
    "### Select Keyword"
   ]
  },
  {
   "cell_type": "code",
   "execution_count": 9,
   "metadata": {},
   "outputs": [],
   "source": [
    "filter_keyword = \"Microsoft\""
   ]
  },
  {
   "cell_type": "code",
   "execution_count": 10,
   "metadata": {},
   "outputs": [],
   "source": [
    "filter_keyword = \"Adobe\""
   ]
  },
  {
   "cell_type": "code",
   "execution_count": 5,
   "metadata": {},
   "outputs": [],
   "source": [
    "filter_keyword = \"Office\""
   ]
  },
  {
   "cell_type": "markdown",
   "metadata": {},
   "source": [
    "### Main(s)"
   ]
  }
 ],
 "metadata": {
  "kernelspec": {
   "display_name": "Python 3",
   "language": "python",
   "name": "python3"
  },
  "language_info": {
   "codemirror_mode": {
    "name": "ipython",
    "version": 3
   },
   "file_extension": ".py",
   "mimetype": "text/x-python",
   "name": "python",
   "nbconvert_exporter": "python",
   "pygments_lexer": "ipython3",
   "version": "3.10.11"
  },
  "orig_nbformat": 4
 },
 "nbformat": 4,
 "nbformat_minor": 2
}
