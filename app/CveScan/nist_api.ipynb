{
 "cells": [
  {
   "cell_type": "code",
   "execution_count": null,
   "metadata": {},
   "outputs": [],
   "source": [
    "import requests\n",
    "import json\n",
    "\n",
    "#NIST API URL that only outputs CVEs that are in CISA's Known Exploited Vulnerabilities catalog\n",
    "# url = \"https://services.nvd.nist.gov/rest/json/cves/2.0?hasKev&startIndex=0&cvssV3Severity=CRITICAL&keywordSearch=Microsoft\"\n",
    "url = \"https://services.nvd.nist.gov/rest/json/cves/2.0\""
   ]
  },
  {
   "cell_type": "markdown",
   "metadata": {},
   "source": [
    "### Helper Functions"
   ]
  },
  {
   "cell_type": "code",
   "execution_count": null,
   "metadata": {},
   "outputs": [],
   "source": [
    "def get_nvd_data(url, has_kev=False, start_index=0, cvss_v3_severity=None, keyword_search=None, keyword_exact_match=None):\n",
    "    #function that receives data from NIST API\n",
    "\n",
    "    try:\n",
    "        # conditionally add url params\n",
    "        params = {\"startIndex\" : str(start_index)}\n",
    "        \n",
    "        if has_kev is not None:\n",
    "            params[\"hasKev\"] = \"\"\n",
    "        \n",
    "        if cvss_v3_severity is not None:\n",
    "            params[\"cvssV3Severity\"] = cvss_v3_severity\n",
    "        \n",
    "        if keyword_search is not None:\n",
    "            params[\"keywordSearch\"] = keyword_search\n",
    "        \n",
    "        if keyword_exact_match == True:\n",
    "            params[\"keywordExactMatch\"] = \"\"\n",
    "\n",
    "        # not get the results\n",
    "        response = requests.get(url, params)\n",
    "\n",
    "        if response.status_code == 200:\n",
    "            data = response.json()\n",
    "            return data\n",
    "\n",
    "        else:\n",
    "            print(f\"Request failed with status code {response.status_code}\")\n",
    "            return None\n",
    "\n",
    "    except requests.exceptions.RequestException as e:\n",
    "        print(f\"Request failed: {str(e)}\")\n",
    "        return None"
   ]
  },
  {
   "cell_type": "code",
   "execution_count": null,
   "metadata": {},
   "outputs": [],
   "source": [
    "def filter_by_severity(cve_data, filter_severity):\n",
    "    filtered_results = []\n",
    "\n",
    "    for vulnerability in cve_data.get(\"vulnerabilities\", []):\n",
    "        cvss_metric_v2 = vulnerability.get(\"cve\", {}).get(\"metrics\", {}).get(\"cvssMetricV2\", [])\n",
    "    \n",
    "        for metric in cvss_metric_v2:\n",
    "            baseSeverity = metric.get(\"baseSeverity\")\n",
    "\n",
    "            if baseSeverity.lower() == filter_severity.lower():\n",
    "                filtered_results.append(vulnerability)\n",
    "\n",
    "    return filtered_results\n"
   ]
  },
  {
   "cell_type": "code",
   "execution_count": null,
   "metadata": {},
   "outputs": [],
   "source": [
    "def filter_by_vulnerability_name(cve_data, filter_keyword):\n",
    "    filtered_results = []\n",
    "\n",
    "    for vulnerability in cve_data.get(\"vulnerabilities\", []):\n",
    "        vulnerability_name = vulnerability.get(\"cve\", {}).get(\"cisaVulnerabilityName\", \"\")\n",
    "        \n",
    "        if filter_keyword.lower() in vulnerability_name.lower():\n",
    "            filtered_results.append(vulnerability)\n",
    "\n",
    "    return filtered_results"
   ]
  },
  {
   "cell_type": "markdown",
   "metadata": {},
   "source": [
    "### Main(s)"
   ]
  },
  {
   "cell_type": "markdown",
   "metadata": {},
   "source": [
    "Online search"
   ]
  },
  {
   "cell_type": "code",
   "execution_count": null,
   "metadata": {},
   "outputs": [],
   "source": [
    "# set params\n",
    "has_kev = False\n",
    "start_index = 0\n",
    "cvss_v3_severity = None # LOW MEDIUM HIGH CRITICAL\n",
    "keyword_search = \"libwebp\"\n",
    "keyword_exact_match = True\n",
    "\n",
    "# get cve data\n",
    "cve_data = get_nvd_data(url, has_kev=has_kev, start_index=start_index, cvss_v3_severity=cvss_v3_severity, keyword_search=keyword_search, keyword_exact_match=keyword_exact_match)"
   ]
  },
  {
   "cell_type": "code",
   "execution_count": null,
   "metadata": {},
   "outputs": [],
   "source": [
    "print(f\"resultsPerPage: {cve_data['resultsPerPage']}\")\n",
    "print(f\"startIndex: {cve_data['startIndex']}\")\n",
    "print(f\"totalResults: {cve_data['totalResults']}\")"
   ]
  },
  {
   "cell_type": "code",
   "execution_count": null,
   "metadata": {},
   "outputs": [],
   "source": [
    "cve_data"
   ]
  },
  {
   "cell_type": "code",
   "execution_count": null,
   "metadata": {},
   "outputs": [],
   "source": [
    "def extract_version_numbers(cve_data: str):\n",
    "    versions = []\n",
    "    if isinstance(cve_data, dict):\n",
    "        if \"versionStartIncluding\" in cve_data:\n",
    "            versions.append(cve_data[\"versionStartIncluding\"])\n",
    "        if \"versionEndExcluding\" in cve_data:\n",
    "            versions.append(cve_data[\"versionEndExcluding\"])\n",
    "        for key, value in cve_data.items():\n",
    "            versions.extend(extract_version_numbers(value))\n",
    "    elif isinstance(cve_data, list):\n",
    "        for item in cve_data:\n",
    "            versions.extend(extract_version_numbers(item))\n",
    "    return versions"
   ]
  },
  {
   "cell_type": "code",
   "execution_count": null,
   "metadata": {},
   "outputs": [],
   "source": [
    "# normalize version to 4 digits each number section\n",
    "def normalize_version(version, min_dig=4):\n",
    "    # Split the version string by dots\n",
    "    parts = version.split('.')\n",
    "\n",
    "    # Normalize each part to have at least four digits\n",
    "    normalized_parts = []\n",
    "    for part in parts:\n",
    "        normalized_part = part.rjust(min_dig, '0')  # Pad with zeros on the left\n",
    "        normalized_parts.append(normalized_part)\n",
    "\n",
    "    # if there are less than four parts, add another section to make all version strings at least 4 number parts\n",
    "    if len(normalized_parts) < 4:\n",
    "        normalized_parts.append(\"0000\")\n",
    "\n",
    "    # Join the normalized parts with dots to form the normalized version\n",
    "    normalized_version = '.'.join(normalized_parts)\n",
    "\n",
    "    return normalized_version"
   ]
  },
  {
   "cell_type": "code",
   "execution_count": null,
   "metadata": {},
   "outputs": [],
   "source": [
    "# Function to check if a version is within a range\n",
    "def is_version_within_range(version, start, end):\n",
    "    # normalize each version to make it comparable\n",
    "    version_n = normalize_version(version)\n",
    "\n",
    "    if start and end:\n",
    "        start_n = normalize_version(start)\n",
    "        end_n = normalize_version(end)\n",
    "        return start_n <= version_n < end_n\n",
    "    elif start:\n",
    "        start_n = normalize_version(start)\n",
    "        return start_n <= version_n\n",
    "    elif end:\n",
    "        end_n = normalize_version(end)\n",
    "        return version_n < end_n\n",
    "    else:\n",
    "        return False"
   ]
  },
  {
   "cell_type": "code",
   "execution_count": null,
   "metadata": {},
   "outputs": [],
   "source": [
    "# Function to check if the given version is within any version range\n",
    "def is_given_version_within_ranges(node, given_version):\n",
    "    if isinstance(node, dict):\n",
    "        if \"versionStartIncluding\" in node or \"versionEndExcluding\" in node:\n",
    "            start = node[\"versionStartIncluding\"] if \"versionStartIncluding\" in node else None\n",
    "            end = node[\"versionEndExcluding\"] if \"versionEndExcluding\" in node else None\n",
    "            if is_version_within_range(given_version, start, end):\n",
    "                return True\n",
    "        for key, value in node.items():\n",
    "            if is_given_version_within_ranges(value, given_version):\n",
    "                return True\n",
    "    elif isinstance(node, list):\n",
    "        for item in node:\n",
    "            if is_given_version_within_ranges(item, given_version):\n",
    "                return True\n",
    "    return False"
   ]
  },
  {
   "cell_type": "code",
   "execution_count": null,
   "metadata": {},
   "outputs": [],
   "source": [
    "version_nums = extract_version_numbers(cve_data)\n",
    "version_nums"
   ]
  },
  {
   "cell_type": "code",
   "execution_count": null,
   "metadata": {},
   "outputs": [],
   "source": [
    "for vulnerability in cve_data[\"vulnerabilities\"]:\n",
    "    is_potentially_vulnerable = is_given_version_within_ranges(cve_data, '1.3.4')\n",
    "    print(f\"is_potentially_vulnerable: {is_potentially_vulnerable}    cve: {vulnerability['cve']['id']}\")"
   ]
  },
  {
   "cell_type": "markdown",
   "metadata": {},
   "source": [
    "Filter Local for Severity"
   ]
  },
  {
   "cell_type": "code",
   "execution_count": null,
   "metadata": {},
   "outputs": [],
   "source": [
    "filtered_cve_data = filter_by_severity(cve_data, \"HIGH\")"
   ]
  },
  {
   "cell_type": "code",
   "execution_count": null,
   "metadata": {},
   "outputs": [],
   "source": [
    "print(f\"totalResults: {len(filtered_cve_data)}\")"
   ]
  },
  {
   "cell_type": "markdown",
   "metadata": {},
   "source": [
    "Filter Local for keyword"
   ]
  },
  {
   "cell_type": "code",
   "execution_count": null,
   "metadata": {},
   "outputs": [],
   "source": [
    "filtered_cve_data = filter_by_vulnerability_name(cve_data, \"Microsoft\")"
   ]
  },
  {
   "cell_type": "code",
   "execution_count": null,
   "metadata": {},
   "outputs": [],
   "source": [
    "len(filtered_cve_data)"
   ]
  }
 ],
 "metadata": {
  "kernelspec": {
   "display_name": "Python 3",
   "language": "python",
   "name": "python3"
  },
  "language_info": {
   "codemirror_mode": {
    "name": "ipython",
    "version": 3
   },
   "file_extension": ".py",
   "mimetype": "text/x-python",
   "name": "python",
   "nbconvert_exporter": "python",
   "pygments_lexer": "ipython3",
   "version": "3.10.11"
  },
  "orig_nbformat": 4
 },
 "nbformat": 4,
 "nbformat_minor": 2
}
